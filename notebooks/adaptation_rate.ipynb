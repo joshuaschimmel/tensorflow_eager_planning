{
 "cells": [
  {
   "cell_type": "code",
   "execution_count": 11,
   "metadata": {},
   "outputs": [],
   "source": [
    "import tensorflow as tf\n",
    "import numpy as np\n",
    "import pandas as pd\n",
    "import copy\n",
    "\n",
    "import altair as alt"
   ]
  },
  {
   "cell_type": "code",
   "execution_count": 12,
   "metadata": {},
   "outputs": [],
   "source": [
    "data = pd.read_parquet(\"../data/adaptation_rate_01.parquet\", engine=\"pyarrow\")\n"
   ]
  },
  {
   "cell_type": "code",
   "execution_count": 13,
   "metadata": {},
   "outputs": [
    {
     "data": {
      "text/html": [
       "<div>\n",
       "<style scoped>\n",
       "    .dataframe tbody tr th:only-of-type {\n",
       "        vertical-align: middle;\n",
       "    }\n",
       "\n",
       "    .dataframe tbody tr th {\n",
       "        vertical-align: top;\n",
       "    }\n",
       "\n",
       "    .dataframe thead th {\n",
       "        text-align: right;\n",
       "    }\n",
       "</style>\n",
       "<table border=\"1\" class=\"dataframe\">\n",
       "  <thead>\n",
       "    <tr style=\"text-align: right;\">\n",
       "      <th></th>\n",
       "      <th>adaptation_rate</th>\n",
       "      <th>iteration</th>\n",
       "      <th>a_0</th>\n",
       "      <th>a_1</th>\n",
       "      <th>a_2</th>\n",
       "      <th>a_3</th>\n",
       "      <th>a_4</th>\n",
       "      <th>a_5</th>\n",
       "      <th>a_6</th>\n",
       "      <th>a_7</th>\n",
       "      <th>a_8</th>\n",
       "      <th>a_9</th>\n",
       "    </tr>\n",
       "  </thead>\n",
       "  <tbody>\n",
       "    <tr>\n",
       "      <th>0</th>\n",
       "      <td>10.0</td>\n",
       "      <td>0.0</td>\n",
       "      <td>0.577549</td>\n",
       "      <td>0.656321</td>\n",
       "      <td>0.271209</td>\n",
       "      <td>0.542442</td>\n",
       "      <td>0.277479</td>\n",
       "      <td>0.256974</td>\n",
       "      <td>0.092969</td>\n",
       "      <td>0.018171</td>\n",
       "      <td>-0.029474</td>\n",
       "      <td>-0.014134</td>\n",
       "    </tr>\n",
       "    <tr>\n",
       "      <th>1</th>\n",
       "      <td>10.0</td>\n",
       "      <td>1.0</td>\n",
       "      <td>0.298428</td>\n",
       "      <td>-0.387148</td>\n",
       "      <td>0.111329</td>\n",
       "      <td>-0.145484</td>\n",
       "      <td>0.134269</td>\n",
       "      <td>0.276029</td>\n",
       "      <td>-0.091504</td>\n",
       "      <td>-0.097858</td>\n",
       "      <td>-0.092527</td>\n",
       "      <td>-0.036473</td>\n",
       "    </tr>\n",
       "    <tr>\n",
       "      <th>2</th>\n",
       "      <td>10.0</td>\n",
       "      <td>2.0</td>\n",
       "      <td>0.661842</td>\n",
       "      <td>0.345827</td>\n",
       "      <td>-0.431179</td>\n",
       "      <td>0.074868</td>\n",
       "      <td>0.087065</td>\n",
       "      <td>0.008113</td>\n",
       "      <td>-0.037473</td>\n",
       "      <td>-0.057193</td>\n",
       "      <td>-0.104390</td>\n",
       "      <td>-0.021774</td>\n",
       "    </tr>\n",
       "    <tr>\n",
       "      <th>3</th>\n",
       "      <td>10.0</td>\n",
       "      <td>3.0</td>\n",
       "      <td>1.344562</td>\n",
       "      <td>-0.556679</td>\n",
       "      <td>0.000422</td>\n",
       "      <td>0.029916</td>\n",
       "      <td>-0.039735</td>\n",
       "      <td>-0.118825</td>\n",
       "      <td>-0.092347</td>\n",
       "      <td>-0.026853</td>\n",
       "      <td>-0.018151</td>\n",
       "      <td>-0.020484</td>\n",
       "    </tr>\n",
       "    <tr>\n",
       "      <th>4</th>\n",
       "      <td>10.0</td>\n",
       "      <td>4.0</td>\n",
       "      <td>0.319317</td>\n",
       "      <td>-0.041615</td>\n",
       "      <td>-0.056655</td>\n",
       "      <td>-0.028439</td>\n",
       "      <td>-0.135337</td>\n",
       "      <td>-0.117442</td>\n",
       "      <td>-0.050623</td>\n",
       "      <td>-0.034721</td>\n",
       "      <td>-0.042510</td>\n",
       "      <td>-0.018230</td>\n",
       "    </tr>\n",
       "  </tbody>\n",
       "</table>\n",
       "</div>"
      ],
      "text/plain": [
       "   adaptation_rate  iteration       a_0       a_1       a_2       a_3  \\\n",
       "0             10.0        0.0  0.577549  0.656321  0.271209  0.542442   \n",
       "1             10.0        1.0  0.298428 -0.387148  0.111329 -0.145484   \n",
       "2             10.0        2.0  0.661842  0.345827 -0.431179  0.074868   \n",
       "3             10.0        3.0  1.344562 -0.556679  0.000422  0.029916   \n",
       "4             10.0        4.0  0.319317 -0.041615 -0.056655 -0.028439   \n",
       "\n",
       "        a_4       a_5       a_6       a_7       a_8       a_9  \n",
       "0  0.277479  0.256974  0.092969  0.018171 -0.029474 -0.014134  \n",
       "1  0.134269  0.276029 -0.091504 -0.097858 -0.092527 -0.036473  \n",
       "2  0.087065  0.008113 -0.037473 -0.057193 -0.104390 -0.021774  \n",
       "3 -0.039735 -0.118825 -0.092347 -0.026853 -0.018151 -0.020484  \n",
       "4 -0.135337 -0.117442 -0.050623 -0.034721 -0.042510 -0.018230  "
      ]
     },
     "execution_count": 13,
     "metadata": {},
     "output_type": "execute_result"
    }
   ],
   "source": [
    "# rename columns\n",
    "headers = {\"0\": \"adaptation_rate\", \"1\": \"iteration\"}\n",
    "for gradient in range(10):\n",
    "    headers[str(gradient + 2)] = f\"g_{action}\"\n",
    "\n",
    "\n",
    "data = data.rename(columns=headers)\n",
    "data.head()"
   ]
  },
  {
   "cell_type": "code",
   "execution_count": 76,
   "metadata": {},
   "outputs": [
    {
     "data": {
      "text/plain": [
       "array([1.e+01, 1.e+00, 1.e-01, 1.e-02, 1.e-03])"
      ]
     },
     "execution_count": 76,
     "metadata": {},
     "output_type": "execute_result"
    }
   ],
   "source": [
    "#color=alt.condition(\n",
    "#        gradient_domain[0] <= alt.datum.a_0 <= gradient_domain[1],\n",
    "#        alt.value(\"steelblue\"),\n",
    "#        alt.value(\"orange\")\n",
    "#)"
   ]
  },
  {
   "cell_type": "code",
   "execution_count": 89,
   "metadata": {},
   "outputs": [],
   "source": [
    "gradient_domain = (-1, 1)\n",
    "action_names = list(data.columns)[2:]\n",
    "\n",
    "base = alt.Chart().mark_line(clip=True).encode(\n",
    "    x=\"iteration:O\",\n",
    "    #tooltip=[\"iteration\", \"adaptation_rate\", \"a_0\"]\n",
    ").properties(\n",
    "    height=200,\n",
    "    width=600\n",
    ")\n",
    "\n",
    "base += base.mark_point(clip=True).encode(\n",
    "    x=\"iteration:O\"\n",
    ").properties(\n",
    "    height=200,\n",
    "    width=600\n",
    ")\n",
    "\n",
    "\n",
    "chart = alt.vconcat(data=data)\n",
    "for adaptation_rate in data[\"adaptation_rate\"].unique():\n",
    "    row = alt.hconcat()\n",
    "    for action in action_names:\n",
    "        row |= base.encode(\n",
    "            y=alt.Y(field=action,\n",
    "                    type=\"quantitative\",\n",
    "                    scale=alt.Scale(domain=gradient_domain,\n",
    "                                    zero=True\n",
    "                                   ),\n",
    "                    axis=alt.Axis(title=f\"{action}, {adaptation_rate}\")\n",
    "               ),\n",
    "            tooltip=[\"iteration\", \"adaptation_rate\", action]\n",
    "        ).transform_filter(\n",
    "            f\"datum.adaptation_rate == {adaptation_rate}\"\n",
    "        )\n",
    "    chart &= row\n",
    "#chart.mark_line() + chart.mark_circle()\n",
    "chart.save(\"adaptation_rate.html\")"
   ]
  },
  {
   "cell_type": "code",
   "execution_count": 59,
   "metadata": {},
   "outputs": [
    {
     "data": {
      "text/plain": [
       "['a_0', 'a_1', 'a_2', 'a_3', 'a_4', 'a_5', 'a_6', 'a_7', 'a_8', 'a_9']"
      ]
     },
     "execution_count": 59,
     "metadata": {},
     "output_type": "execute_result"
    }
   ],
   "source": []
  },
  {
   "cell_type": "code",
   "execution_count": null,
   "metadata": {},
   "outputs": [],
   "source": []
  }
 ],
 "metadata": {
  "kernelspec": {
   "display_name": "Python 3",
   "language": "python",
   "name": "python3"
  },
  "language_info": {
   "codemirror_mode": {
    "name": "ipython",
    "version": 3
   },
   "file_extension": ".py",
   "mimetype": "text/x-python",
   "name": "python",
   "nbconvert_exporter": "python",
   "pygments_lexer": "ipython3",
   "version": "3.6.7"
  }
 },
 "nbformat": 4,
 "nbformat_minor": 2
}
